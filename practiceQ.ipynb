{
 "cells": [
  {
   "cell_type": "code",
   "execution_count": 1,
   "id": "bf79275f",
   "metadata": {},
   "outputs": [],
   "source": [
    "#WAP a python program to get the input from the user for creating two lists and add the elements of one list into the other \n",
    "\n",
    "size of list _1 =int(input ())\n",
    "list_1=[]\n",
    "for i in range(size_of_list_1):\n",
    "    list_1.append(int(input()))\n",
    "print(list_1)\n",
    "size_of_list_2=int(input)"
   ]
  },
  {
   "cell_type": "code",
   "execution_count": 2,
   "id": "568bf7f1",
   "metadata": {},
   "outputs": [],
   "source": [
    "#WAP program to find the maximum number in the given list \n",
    "\n",
    "a = int(input())\n",
    "b= list(map(int,input))"
   ]
  },
  {
   "cell_type": "code",
   "execution_count": 3,
   "id": "6d50bf97",
   "metadata": {},
   "outputs": [],
   "source": [
    "#WAP a python code to create a list 1 to 10 element"
   ]
  },
  {
   "cell_type": "code",
   "execution_count": 4,
   "id": "4289dd9e",
   "metadata": {},
   "outputs": [
    {
     "name": "stdout",
     "output_type": "stream",
     "text": [
      "4\n",
      "5\n",
      "6\n",
      "5\n",
      "5\n",
      "Largest even number: 6\n",
      "Largest odd number 5\n"
     ]
    }
   ],
   "source": [
    "#WAP in python to find the largest even and largest number in the list.\n",
    "\n",
    "n=int(input())\n",
    "b=[]\n",
    "for i in range(n):\n",
    "    a = int(input())\n",
    "    b.append(a)\n",
    "c=[]\n",
    "d=[]\n",
    "for i in b:\n",
    "    if(i%2 ==0):\n",
    "        c.append(i)\n",
    "    else:\n",
    "        d.append(i)\n",
    "c.sort()\n",
    "d.sort()\n",
    "print(\"Largest even number:\",c[-1])\n",
    "print(\"Largest odd number\",d[-1])        \n",
    "    \n"
   ]
  },
  {
   "cell_type": "code",
   "execution_count": 7,
   "id": "3f7fed3d",
   "metadata": {},
   "outputs": [
    {
     "name": "stdout",
     "output_type": "stream",
     "text": [
      "4\n",
      "5\n"
     ]
    },
    {
     "ename": "AttributeError",
     "evalue": "'list' object has no attribute 'union'",
     "output_type": "error",
     "traceback": [
      "\u001b[1;31m---------------------------------------------------------------------------\u001b[0m",
      "\u001b[1;31mAttributeError\u001b[0m                            Traceback (most recent call last)",
      "Cell \u001b[1;32mIn[7], line 4\u001b[0m\n\u001b[0;32m      1\u001b[0m a \u001b[38;5;241m=\u001b[39m \u001b[38;5;28mlist\u001b[39m(\u001b[38;5;28mmap\u001b[39m(\u001b[38;5;28mint\u001b[39m,\u001b[38;5;28minput\u001b[39m()\u001b[38;5;241m.\u001b[39msplit()))\n\u001b[0;32m      2\u001b[0m b \u001b[38;5;241m=\u001b[39m \u001b[38;5;28mlist\u001b[39m(\u001b[38;5;28mmap\u001b[39m(\u001b[38;5;28mint\u001b[39m,\u001b[38;5;28minput\u001b[39m()\u001b[38;5;241m.\u001b[39msplit()))\n\u001b[1;32m----> 4\u001b[0m union \u001b[38;5;241m=\u001b[39m \u001b[38;5;28mlist\u001b[39m(\u001b[38;5;28mset\u001b[39m())\u001b[38;5;241m.\u001b[39munion(a,b)\n\u001b[0;32m      5\u001b[0m \u001b[38;5;28mprint\u001b[39m(\u001b[38;5;124m'\u001b[39m\u001b[38;5;124mThe union of two list is :\u001b[39m\u001b[38;5;124m'\u001b[39m,union)\n",
      "\u001b[1;31mAttributeError\u001b[0m: 'list' object has no attribute 'union'"
     ]
    }
   ],
   "source": [
    "a = list(map(int,input().split()))\n",
    "b = list(map(int,input().split()))\n",
    "\n",
    "union = list(set()).union(a,b))\n",
    "print('The union of two list is :',union)     "
   ]
  },
  {
   "cell_type": "code",
   "execution_count": null,
   "id": "9d51be4b",
   "metadata": {},
   "outputs": [],
   "source": []
  }
 ],
 "metadata": {
  "kernelspec": {
   "display_name": "Python 3 (ipykernel)",
   "language": "python",
   "name": "python3"
  },
  "language_info": {
   "codemirror_mode": {
    "name": "ipython",
    "version": 3
   },
   "file_extension": ".py",
   "mimetype": "text/x-python",
   "name": "python",
   "nbconvert_exporter": "python",
   "pygments_lexer": "ipython3",
   "version": "3.12.3"
  }
 },
 "nbformat": 4,
 "nbformat_minor": 5
}
