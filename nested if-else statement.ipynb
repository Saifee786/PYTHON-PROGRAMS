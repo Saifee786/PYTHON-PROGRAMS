{
 "cells": [
  {
   "cell_type": "code",
   "execution_count": 2,
   "id": "e61aa02b",
   "metadata": {},
   "outputs": [
    {
     "name": "stdout",
     "output_type": "stream",
     "text": [
      "Enter a number-8\n",
      "The number is negative and even\n"
     ]
    }
   ],
   "source": [
    "num = int(input(\"Enter a number\"))\n",
    "if num >=0:\n",
    "    if num == 0:\n",
    "        print(\"The number is zero\")\n",
    "    elif num % 2 == 0:\n",
    "        print(\"The number is positive an even \")\n",
    "    else:\n",
    "        print(\"The number is positive and odd\")\n",
    "else:\n",
    "    if num % 2 != 0:\n",
    "        print(\"The number is negative and odd\")\n",
    "    else:\n",
    "        print(\"The number is negative and even\")"
   ]
  },
  {
   "cell_type": "code",
   "execution_count": null,
   "id": "22ffcdeb",
   "metadata": {},
   "outputs": [],
   "source": []
  },
  {
   "cell_type": "code",
   "execution_count": null,
   "id": "18cd24e8",
   "metadata": {},
   "outputs": [],
   "source": []
  }
 ],
 "metadata": {
  "kernelspec": {
   "display_name": "Python 3 (ipykernel)",
   "language": "python",
   "name": "python3"
  },
  "language_info": {
   "codemirror_mode": {
    "name": "ipython",
    "version": 3
   },
   "file_extension": ".py",
   "mimetype": "text/x-python",
   "name": "python",
   "nbconvert_exporter": "python",
   "pygments_lexer": "ipython3",
   "version": "3.12.3"
  }
 },
 "nbformat": 4,
 "nbformat_minor": 5
}
