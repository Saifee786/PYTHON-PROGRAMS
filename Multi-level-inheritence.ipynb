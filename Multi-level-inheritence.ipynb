{
 "cells": [
  {
   "cell_type": "code",
   "execution_count": 3,
   "id": "a23f47a7",
   "metadata": {},
   "outputs": [],
   "source": [
    "#Write a python program to calculate the salary of the temporary staff using multi level inheritence\n",
    "#Create a class person which contains a constructor init() and a method display(self).the method displays name of the person.\n",
    "#Create another class staff which inherit person.it contains a constructor init() and a method displays (self) .the method displays id. \n",
    "#Create another class temporaryStaff which inherit Staff, it also contains a constructor init() and two method displays (self) ,salary (self).\n",
    "#the method Salary(self) return the total salary earned .the method displays() displays number of days,hourseworked and total salary earned.\n",
    "#salary earned = total hours worked *150\n"
   ]
  },
  {
   "cell_type": "code",
   "execution_count": null,
   "id": "e6ab0215",
   "metadata": {},
   "outputs": [],
   "source": [
    "# Base class: Person\n",
    "class Person:\n",
    "    def __init__(self, name):\n",
    "        self.name = name\n",
    "    \n",
    "    def display(self):\n",
    "        print(f\"Name: {self.name}\")\n",
    "\n",
    "# Derived class: Staff (inherits from Person)\n",
    "class Staff(Person):\n",
    "    def __init__(self, name, staff_id):\n",
    "        super().__init__(name)\n",
    "        self.staff_id = staff_id\n",
    "    \n",
    "    def display(self):\n",
    "        super().display()\n",
    "        print(f\"Staff ID: {self.staff_id}\")\n",
    "\n",
    "# Derived class: TemporaryStaff (inherits from Staff)\n",
    "class TemporaryStaff(Staff):\n",
    "    def __init__(self, name, staff_id, num_days, hours_per_day):\n",
    "        super().__init__(name, staff_id)\n",
    "        self.num_days = num_days\n",
    "        self.hours_per_day = hours_per_day\n",
    "    \n",
    "    def salary(self):\n",
    "        total_hours = self.num_days * self.hours_per_day\n",
    "        return total_hours * 150  # Salary per hour is 150\n",
    "    \n",
    "    def display(self):\n",
    "        super().display()\n",
    "        total_hours = self.num_days * self.hours_per_day\n",
    "        total_salary = self.salary()\n",
    "        print(f\"Number of Days Worked: {self.num_days}\")\n",
    "        print(f\"Hours Worked Per Day: {self.hours_per_day}\")\n",
    "        print(f\"Total Hours Worked: {total_hours}\")\n",
    "        print(f\"Total Salary Earned: {total_salary}\")\n",
    "\n",
    "# Example usage\n",
    "if __name__ == \"__main__\":\n",
    "    # Creating a TemporaryStaff object\n",
    "    temp_staff = TemporaryStaff(\"John Doe\", \"T123\", 20, 8)\n",
    "    \n",
    "    # Displaying details\n",
    "    temp_staff.display()\n"
   ]
  }
 ],
 "metadata": {
  "kernelspec": {
   "display_name": "Python 3 (ipykernel)",
   "language": "python",
   "name": "python3"
  },
  "language_info": {
   "codemirror_mode": {
    "name": "ipython",
    "version": 3
   },
   "file_extension": ".py",
   "mimetype": "text/x-python",
   "name": "python",
   "nbconvert_exporter": "python",
   "pygments_lexer": "ipython3",
   "version": "3.12.3"
  }
 },
 "nbformat": 4,
 "nbformat_minor": 5
}
