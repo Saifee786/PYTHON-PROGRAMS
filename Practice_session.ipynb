{
 "cells": [
  {
   "cell_type": "code",
   "execution_count": 1,
   "id": "907b3dd2",
   "metadata": {},
   "outputs": [
    {
     "name": "stdout",
     "output_type": "stream",
     "text": [
      "5\n",
      "5\n"
     ]
    }
   ],
   "source": [
    "x = list(input())\n",
    "y = max(x)\n",
    "print(y)"
   ]
  },
  {
   "cell_type": "code",
   "execution_count": null,
   "id": "79d15afc",
   "metadata": {},
   "outputs": [],
   "source": [
    "n = int(input())\n",
    "sum1 = 0\n",
    "for i in range(0, n):\n",
    "    y = int(input())\n",
    "    sum1 = sum1 + y\n",
    "\n",
    "\n",
    "print(sum1)"
   ]
  },
  {
   "cell_type": "code",
   "execution_count": null,
   "id": "fc7c5e98",
   "metadata": {},
   "outputs": [],
   "source": [
    "a = int(input())\n",
    "sum2 = 0\n",
    "for i in range(a):\n",
    "    y = list(map(int, input().split()))\n",
    "    sum2 += sum(y)\n",
    "\n",
    "print(sum2)"
   ]
  },
  {
   "cell_type": "code",
   "execution_count": null,
   "id": "debc5f3c",
   "metadata": {},
   "outputs": [],
   "source": [
    "def find_second_largest(numbers):\n",
    "    # Remove duplicates by converting to a set, then back to a sorted list\n",
    "    unique_numbers = list(set(numbers))\n",
    "    \n",
    "    # Check if there are at least two unique numbers\n",
    "    if len(unique_numbers) < 2:\n",
    "        return \"List does not have a second largest number.\"\n",
    "    \n",
    "    # Sort the list in descending order and return the second element\n",
    "    unique_numbers.sort(reverse=True)\n",
    "    return unique_numbers[1]\n",
    "\n",
    "# Take input from the user\n",
    "user_input = input(\"Enter numbers separated by spaces: \")\n",
    "numbers = [int(num) for num in user_input.split()]\n",
    "\n",
    "second_largest = find_second_largest(numbers)\n",
    "print(\"The second largest number is:\", second_largest)"
   ]
  },
  {
   "cell_type": "code",
   "execution_count": null,
   "id": "826f5b35",
   "metadata": {},
   "outputs": [],
   "source": [
    "input_list = [3,2,3,780,90]\n",
    "\n",
    "l1 = []\n",
    "\n",
    "count = 0\n",
    "\n",
    "for item in input_list:\n",
    "    if item not in l1:\n",
    "        count += 1\n",
    "        l1.append(item)\n",
    "\n",
    "print(\"No of unique items are:\", count)"
   ]
  },
  {
   "cell_type": "code",
   "execution_count": null,
   "id": "16f91aa7",
   "metadata": {},
   "outputs": [],
   "source": [
    "fruits = [\"apple\", \"banana\", \"cherry\", \"mango\"]\n",
    "newlist = [x for x in fruits if \"a\" in x]\n",
    "newlist"
   ]
  },
  {
   "cell_type": "code",
   "execution_count": null,
   "id": "9cbf9eaa",
   "metadata": {},
   "outputs": [],
   "source": [
    "x = [int(x) for x in input().split()]\n",
    "print(x)\n",
    "# print(y)"
   ]
  },
  {
   "cell_type": "code",
   "execution_count": null,
   "id": "d8bcea07",
   "metadata": {},
   "outputs": [],
   "source": [
    "list1 = list(range(1,11))\n",
    "odd = list1[::2]\n",
    "print(list1)\n",
    "print(odd)"
   ]
  },
  {
   "cell_type": "code",
   "execution_count": null,
   "id": "a59aaa26",
   "metadata": {},
   "outputs": [],
   "source": [
    "list1 = list(range(1,11))\n",
    "even = list1[1::2]\n",
    "print(list1)\n",
    "print(even)"
   ]
  },
  {
   "cell_type": "code",
   "execution_count": 1,
   "id": "37087c5c",
   "metadata": {},
   "outputs": [
    {
     "name": "stdout",
     "output_type": "stream",
     "text": [
      "5\n",
      "8\n",
      "6\n",
      "\n"
     ]
    },
    {
     "ename": "ValueError",
     "evalue": "invalid literal for int() with base 10: ''",
     "output_type": "error",
     "traceback": [
      "\u001b[1;31m---------------------------------------------------------------------------\u001b[0m",
      "\u001b[1;31mValueError\u001b[0m                                Traceback (most recent call last)",
      "Cell \u001b[1;32mIn[1], line 4\u001b[0m\n\u001b[0;32m      2\u001b[0m m \u001b[38;5;241m=\u001b[39m []\n\u001b[0;32m      3\u001b[0m \u001b[38;5;28;01mfor\u001b[39;00m i \u001b[38;5;129;01min\u001b[39;00m \u001b[38;5;28mrange\u001b[39m(n):\n\u001b[1;32m----> 4\u001b[0m     a \u001b[38;5;241m=\u001b[39m \u001b[38;5;28mint\u001b[39m(\u001b[38;5;28minput\u001b[39m())\n\u001b[0;32m      5\u001b[0m     m\u001b[38;5;241m.\u001b[39mappend(a)\n\u001b[0;32m      7\u001b[0m p \u001b[38;5;241m=\u001b[39m []\n",
      "\u001b[1;31mValueError\u001b[0m: invalid literal for int() with base 10: ''"
     ]
    }
   ],
   "source": [
    "n = int(input())\n",
    "m = []\n",
    "for i in range(n):\n",
    "    a = int(input())\n",
    "    m.append(a)\n",
    "\n",
    "p = []\n",
    "q = []\n",
    "\n",
    "for i in m:\n",
    "    if i%2 == 0:\n",
    "        p.append(i)\n",
    "    else:\n",
    "        q.append(i)\n",
    "\n",
    "p.sort()\n",
    "q.sort()\n",
    "\n",
    "print(f\"Largest number {p[-1]}\")\n",
    "print(f\"Largest number {q[-1]}\")"
   ]
  },
  {
   "cell_type": "code",
   "execution_count": null,
   "id": "378e98cb",
   "metadata": {},
   "outputs": [],
   "source": [
    "set1 = {1, 2, 3}\n",
    "set2 = {2, 3, 4}\n",
    "\n",
    "union_result = set1.union(set2)\n",
    "intersection_result = set1.intersection(set2)\n",
    "print(union_result)\n",
    "print(intersection_result)"
   ]
  },
  {
   "cell_type": "code",
   "execution_count": null,
   "id": "c7a75717",
   "metadata": {},
   "outputs": [],
   "source": []
  }
 ],
 "metadata": {
  "kernelspec": {
   "display_name": "Python 3 (ipykernel)",
   "language": "python",
   "name": "python3"
  },
  "language_info": {
   "codemirror_mode": {
    "name": "ipython",
    "version": 3
   },
   "file_extension": ".py",
   "mimetype": "text/x-python",
   "name": "python",
   "nbconvert_exporter": "python",
   "pygments_lexer": "ipython3",
   "version": "3.12.3"
  }
 },
 "nbformat": 4,
 "nbformat_minor": 5
}
