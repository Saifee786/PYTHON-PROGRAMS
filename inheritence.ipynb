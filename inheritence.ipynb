{
 "cells": [
  {
   "cell_type": "code",
   "execution_count": 1,
   "id": "e0a12057",
   "metadata": {},
   "outputs": [
    {
     "name": "stdout",
     "output_type": "stream",
     "text": [
      "engine is powerfull\n",
      "100km\n"
     ]
    }
   ],
   "source": [
    "class Car:\n",
    "    def speed (self):\n",
    "        print(\"100km\")\n",
    "class Audi (Car):\n",
    "    def engine (self):\n",
    "        print(\"engine is powerfull\")\n",
    "c = Audi()\n",
    "c.engine()\n",
    "c.speed()"
   ]
  },
  {
   "cell_type": "code",
   "execution_count": null,
   "id": "0c220466",
   "metadata": {},
   "outputs": [],
   "source": [
    "class Calculator:\n",
    "    def add(self,num1 + num2)"
   ]
  },
  {
   "cell_type": "code",
   "execution_count": 1,
   "id": "e7d2fcf0",
   "metadata": {},
   "outputs": [
    {
     "name": "stdout",
     "output_type": "stream",
     "text": [
      "Some generic sound\n",
      "bark\n",
      "Meow\n"
     ]
    }
   ],
   "source": [
    "#Overriding\n",
    "\n",
    "class Animal:\n",
    "    def sound(self):\n",
    "        print(\"Some generic sound\")\n",
    "\n",
    "class Dog():\n",
    "    def sound(self):\n",
    "        print(\"bark\")\n",
    "\n",
    "class Cat():\n",
    "    def sound(self):\n",
    "        print(\"Meow\")\n",
    "\n",
    "dog = Dog()\n",
    "cat = Cat()\n",
    "anl = Animal()\n",
    "anl.sound()\n",
    "dog.sound()\n",
    "cat.sound()"
   ]
  },
  {
   "cell_type": "code",
   "execution_count": null,
   "id": "400507a4",
   "metadata": {},
   "outputs": [],
   "source": [
    "x = int(input(\"Enter a number\"))\n",
    "y = int(input(\"Enter a number\"))\n",
    "\n",
    "class Calculate:\n",
    "    def add(self,x,y):\n",
    "        self.x = x\n",
    "        self.y = y\n",
    "        print(self.x + self.y)\n",
    "        \n",
    "    def sub(self,x,y):\n",
    "        self.x = x\n",
    "        self.y = y\n",
    "        print(self.x - self.y)\n",
    "\n",
    "class AdvancedCalculate(Calculate):\n",
    "    def mul(self,x,y):\n",
    "        self.x = x\n",
    "        self.y = y\n",
    "        print(self.x * self.y)\n",
    "        \n",
    "    def div(self,x,y):\n",
    "        self.x = x\n",
    "        self.y = y\n",
    "        print(self.x / self.y)\n",
    "\n",
    "a = AdvancedCalculate()\n",
    "a.add(x,y)\n",
    "a.sub(x,y)\n",
    "a.mul(x,y)\n",
    "a.div(x,y)"
   ]
  }
 ],
 "metadata": {
  "kernelspec": {
   "display_name": "Python 3 (ipykernel)",
   "language": "python",
   "name": "python3"
  },
  "language_info": {
   "codemirror_mode": {
    "name": "ipython",
    "version": 3
   },
   "file_extension": ".py",
   "mimetype": "text/x-python",
   "name": "python",
   "nbconvert_exporter": "python",
   "pygments_lexer": "ipython3",
   "version": "3.12.3"
  }
 },
 "nbformat": 4,
 "nbformat_minor": 5
}
