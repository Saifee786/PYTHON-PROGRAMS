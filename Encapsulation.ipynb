{
 "cells": [
  {
   "cell_type": "code",
   "execution_count": 1,
   "id": "bde06dbb",
   "metadata": {},
   "outputs": [
    {
     "name": "stdout",
     "output_type": "stream",
     "text": [
      "4\n",
      "4\n"
     ]
    }
   ],
   "source": [
    "class Sum_odd:\n",
    "    def calc(self):\n",
    "        __n = int(input())\n",
    "        x = 0\n",
    "        for i in range(1,__n+1, 2):\n",
    "            x += i\n",
    "        print(x)\n",
    "m = Sum_odd()\n",
    "m.calc()"
   ]
  },
  {
   "cell_type": "code",
   "execution_count": 2,
   "id": "3cff4e1d",
   "metadata": {},
   "outputs": [
    {
     "name": "stdout",
     "output_type": "stream",
     "text": [
      "4465\n",
      "ODD\n"
     ]
    }
   ],
   "source": [
    "class Check:\n",
    "    def odd_even(self):\n",
    "        _n = int(input())\n",
    "        if _n % 2 == 0:\n",
    "            print(\"EVEN\")\n",
    "        else:\n",
    "            print(\"ODD\")\n",
    "\n",
    "ob = Check()\n",
    "ob.odd_even()"
   ]
  },
  {
   "cell_type": "code",
   "execution_count": 3,
   "id": "05c6315a",
   "metadata": {},
   "outputs": [
    {
     "name": "stdout",
     "output_type": "stream",
     "text": [
      "41000\n",
      "29000\n"
     ]
    }
   ],
   "source": [
    "class Bank_acc:\n",
    "    def __init__(self, owner, bal=0):\n",
    "        self.__bal = bal\n",
    "\n",
    "    def get_bal(self):\n",
    "        return self.__bal\n",
    "\n",
    "    def deposit(self, amt):\n",
    "        if amt > 0:\n",
    "            self.__bal += amt\n",
    "            print(self.__bal)\n",
    "        else:\n",
    "            print(\"Deposit amount should be greater than zero\")\n",
    "\n",
    "    def withdraw(self, amt):\n",
    "        if 0 < amt <= self.__bal:\n",
    "            self.__bal -= amt\n",
    "            print(self.__bal)\n",
    "        else:\n",
    "            print(\"Insufficient amount\")\n",
    "\n",
    "\n",
    "acc = Bank_acc(\"Akbar\", 40000)\n",
    "acc.get_bal()\n",
    "acc.deposit(1000)\n",
    "acc.withdraw(12000)"
   ]
  },
  {
   "cell_type": "code",
   "execution_count": null,
   "id": "1dc6bef1",
   "metadata": {},
   "outputs": [],
   "source": []
  }
 ],
 "metadata": {
  "kernelspec": {
   "display_name": "Python 3 (ipykernel)",
   "language": "python",
   "name": "python3"
  },
  "language_info": {
   "codemirror_mode": {
    "name": "ipython",
    "version": 3
   },
   "file_extension": ".py",
   "mimetype": "text/x-python",
   "name": "python",
   "nbconvert_exporter": "python",
   "pygments_lexer": "ipython3",
   "version": "3.12.3"
  }
 },
 "nbformat": 4,
 "nbformat_minor": 5
}
