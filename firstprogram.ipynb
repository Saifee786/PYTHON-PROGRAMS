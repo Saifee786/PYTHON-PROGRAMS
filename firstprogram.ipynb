{
 "cells": [
  {
   "cell_type": "markdown",
   "id": "8da993dc-9875-4933-8787-51913fae780e",
   "metadata": {},
   "source": [
    "###Print the first n natural numbers starting 1 to n"
   ]
  },
  {
   "cell_type": "code",
   "execution_count": 23,
   "id": "58af8cd1-d0f9-4d0c-9b59-082be07cbc93",
   "metadata": {},
   "outputs": [],
   "source": [
    "###write a program to print n numbers\n"
   ]
  },
  {
   "cell_type": "markdown",
   "id": "778556d2-ac2b-44d9-8f08-75f925ded107",
   "metadata": {},
   "source": [
    "for i in range(1, 11):\n",
    "    print(i)\n",
    "    "
   ]
  },
  {
   "cell_type": "code",
   "execution_count": 29,
   "id": "b32dd8f0-70b9-433e-97ab-0f95fdfb601a",
   "metadata": {},
   "outputs": [
    {
     "name": "stdout",
     "output_type": "stream",
     "text": [
      "1\n",
      "2\n",
      "3\n",
      "4\n",
      "5\n",
      "6\n",
      "7\n",
      "8\n",
      "9\n",
      "10\n"
     ]
    }
   ],
   "source": [
    "for i in range(1, 11):\n",
    "    print(i)"
   ]
  },
  {
   "cell_type": "code",
   "execution_count": null,
   "id": "2b400e82-c723-41e2-83e4-bd7f5bb65967",
   "metadata": {},
   "outputs": [],
   "source": [
    "\n",
    "\n",
    "    "
   ]
  }
 ],
 "metadata": {
  "kernelspec": {
   "display_name": "Python 3 (ipykernel)",
   "language": "python",
   "name": "python3"
  },
  "language_info": {
   "codemirror_mode": {
    "name": "ipython",
    "version": 3
   },
   "file_extension": ".py",
   "mimetype": "text/x-python",
   "name": "python",
   "nbconvert_exporter": "python",
   "pygments_lexer": "ipython3",
   "version": "3.12.4"
  }
 },
 "nbformat": 4,
 "nbformat_minor": 5
}
