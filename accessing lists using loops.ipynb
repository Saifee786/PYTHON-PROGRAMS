{
 "cells": [
  {
   "cell_type": "code",
   "execution_count": 1,
   "id": "f5f8b56f",
   "metadata": {},
   "outputs": [
    {
     "name": "stdout",
     "output_type": "stream",
     "text": [
      "38 64 33 86 "
     ]
    }
   ],
   "source": [
    "a = [38,64,33,86]\n",
    "for i in a:\n",
    "    print(i,end=\" \")"
   ]
  },
  {
   "cell_type": "code",
   "execution_count": 2,
   "id": "e3b889a1",
   "metadata": {},
   "outputs": [],
   "source": [
    "#check wheather 30 is present in the above lists or not"
   ]
  },
  {
   "cell_type": "code",
   "execution_count": 4,
   "id": "7e89b122",
   "metadata": {},
   "outputs": [
    {
     "name": "stdout",
     "output_type": "stream",
     "text": [
      "value not found\n"
     ]
    }
   ],
   "source": [
    "for i in a:\n",
    "    if i == 30:\n",
    "        print(\"value found\")\n",
    "        break\n",
    "else:\n",
    "    print(\"value not found\")"
   ]
  },
  {
   "cell_type": "code",
   "execution_count": 12,
   "id": "f71e2483",
   "metadata": {},
   "outputs": [
    {
     "name": "stdout",
     "output_type": "stream",
     "text": [
      "2\n"
     ]
    }
   ],
   "source": [
    "#wap in python to find the index value of a number 30 in the list a= [10,20,30,40]\n",
    "\n",
    "a =[10,20,30,40]\n",
    "a.index(30)\n",
    "\n",
    "#using for loop\n",
    "\n",
    "for i in range (len(a)):\n",
    "    if a[i] == 30:\n",
    "        print(i)\n",
    "        break"
   ]
  },
  {
   "cell_type": "code",
   "execution_count": 14,
   "id": "6e3f476e",
   "metadata": {},
   "outputs": [
    {
     "name": "stdout",
     "output_type": "stream",
     "text": [
      "16\n"
     ]
    }
   ],
   "source": [
    "#imagine that there are 500 elemets in the list,what is the way to access the last elements?\n",
    "\n",
    "b =[24,75,82,86,49,28,82,68,34,98,62,39,73,46,23,97,48]\n",
    "print(len(b)-1)"
   ]
  },
  {
   "cell_type": "code",
   "execution_count": 20,
   "id": "55a66472",
   "metadata": {},
   "outputs": [
    {
     "data": {
      "text/plain": [
       "1"
      ]
     },
     "execution_count": 20,
     "metadata": {},
     "output_type": "execute_result"
    }
   ],
   "source": [
    "#how to acces the element 1 using reverse indexing\n",
    "\n",
    "list_1=[1,64,74,84,97,97,96,41,68,73,28,46,28,26,75,85,46,24,89,12,75]\n",
    "\n",
    "list_1[-21]"
   ]
  },
  {
   "cell_type": "code",
   "execution_count": 28,
   "id": "8c13e3c7",
   "metadata": {},
   "outputs": [
    {
     "name": "stdout",
     "output_type": "stream",
     "text": [
      "[23, 'ABC', 9.5, 'a']\n",
      "[23, 'ABC', 9.5, 'a', 'h', 'e', 'l', 'l', 'o']\n",
      "[23, 'XYZ', 9.5, 'a', 'h', 'e', 'l', 'l', 'o']\n"
     ]
    }
   ],
   "source": [
    "#how to get a particular element in the list\n",
    "\n",
    "information =[23,\"ABC\",9.5,'a']\n",
    "print(information)\n",
    "\n",
    "information[1]\n",
    "\n",
    "#in information list how we can add \"hello\" in the list?\n",
    "information += \"hello\"\n",
    "print(information)\n",
    "\n",
    "#in information list ,change the \"ABC\" to \"XYZ\" in list\n",
    "\n",
    "information[1] =\"XYZ\"\n",
    "print(information)"
   ]
  },
  {
   "cell_type": "code",
   "execution_count": 35,
   "id": "23c3dddf",
   "metadata": {},
   "outputs": [
    {
     "data": {
      "text/plain": [
       "[23, 'XYZ', 9.5]"
      ]
     },
     "execution_count": 35,
     "metadata": {},
     "output_type": "execute_result"
    }
   ],
   "source": [
    "#how to acces the first three elements?\n",
    "information[0:3]\n",
    "#we can acces particular manner\n",
    "information[:0]\n",
    "information[:1]\n",
    "information[:2]\n",
    "information[:3]\n"
   ]
  },
  {
   "cell_type": "code",
   "execution_count": 38,
   "id": "a07b4bf9",
   "metadata": {},
   "outputs": [
    {
     "data": {
      "text/plain": [
       "[23, 'a', 'l']"
      ]
     },
     "execution_count": 38,
     "metadata": {},
     "output_type": "execute_result"
    }
   ],
   "source": [
    "# how to achieve the following [23,'a','l']\n",
    "\n",
    "information[::3]"
   ]
  },
  {
   "cell_type": "code",
   "execution_count": 40,
   "id": "cbeb107a",
   "metadata": {},
   "outputs": [
    {
     "data": {
      "text/plain": [
       "['o', 'l', 'l', 'e', 'h', 'a', 9.5, 'XYZ', 23]"
      ]
     },
     "execution_count": 40,
     "metadata": {},
     "output_type": "execute_result"
    }
   ],
   "source": [
    "#wap in python to reverse all the elements using indexing\n",
    "\n",
    "information[::-1]"
   ]
  },
  {
   "cell_type": "code",
   "execution_count": 42,
   "id": "d1aaa60d",
   "metadata": {},
   "outputs": [
    {
     "data": {
      "text/plain": [
       "['9845451210', 8.58]"
      ]
     },
     "execution_count": 42,
     "metadata": {},
     "output_type": "execute_result"
    }
   ],
   "source": [
    "#how to achieve this output \"9845451210\",8.58 ?\n",
    "\n",
    "student_2=[2,\"STU\",8.58,\"female\",\"india\",\"9845451210\"]\n",
    "student_2[::-3]"
   ]
  },
  {
   "cell_type": "code",
   "execution_count": 46,
   "id": "66f626a9",
   "metadata": {},
   "outputs": [
    {
     "name": "stdout",
     "output_type": "stream",
     "text": [
      "Enter a number to fill the list: 50\n",
      "List of 100 elements with all entries as 50 : [50, 50, 50, 50, 50, 50, 50, 50, 50, 50, 50, 50, 50, 50, 50, 50, 50, 50, 50, 50, 50, 50, 50, 50, 50, 50, 50, 50, 50, 50, 50, 50, 50, 50, 50, 50, 50, 50, 50, 50, 50, 50, 50, 50, 50, 50, 50, 50, 50, 50, 50, 50, 50, 50, 50, 50, 50, 50, 50, 50, 50, 50, 50, 50, 50, 50, 50, 50, 50, 50, 50, 50, 50, 50, 50, 50, 50, 50, 50, 50, 50, 50, 50, 50, 50, 50, 50, 50, 50, 50, 50, 50, 50, 50, 50, 50, 50, 50, 50, 50]\n"
     ]
    }
   ],
   "source": [
    "#Wap in python to create a list of 100 elements,where all the entries are same number,and the number is given by the user\n",
    "\n",
    "# Take a number as input from the user\n",
    "number = int(input(\"Enter a number to fill the list: \"))\n",
    "\n",
    "# Create a list of 100 elements with the same number\n",
    "result_list = [number] * 100\n",
    "\n",
    "# Print the list to confirm\n",
    "print(\"List of 100 elements with all entries as\", number, \":\", result_list)\n"
   ]
  },
  {
   "cell_type": "code",
   "execution_count": 52,
   "id": "b9e13b36",
   "metadata": {},
   "outputs": [
    {
     "name": "stdout",
     "output_type": "stream",
     "text": [
      "First 10 odd numbers: [1, 3, 5, 7, 9, 11, 13, 15, 17, 19]\n"
     ]
    }
   ],
   "source": [
    "#Wap in python code to create a list of first 10 odd elements without using decision making statements\n",
    "\n",
    "odd_numbers = [2 * i + 1 for i in range(10)]\n",
    "print(\"First 10 odd numbers:\", odd_numbers)\n",
    "\n"
   ]
  },
  {
   "cell_type": "code",
   "execution_count": 56,
   "id": "c5d28a8f",
   "metadata": {},
   "outputs": [
    {
     "name": "stdout",
     "output_type": "stream",
     "text": [
      "List of numbers from 1 to 10: [1, 2, 3, 4, 5, 6, 7, 8, 9, 10]\n",
      "List of odd numbers: [1, 3, 5, 7, 9]\n",
      "[1, 2, 3, 4, 5, 6, 7, 8, 9, 10]\n",
      "[1, 3, 5, 7, 9]\n"
     ]
    }
   ],
   "source": [
    "#Wap in python to create a list of 1 to 10 elememts and form the list created, create another list with only odd values.\n",
    "\n",
    "\n",
    "numbers = list(range(1, 11))\n",
    "odd_numbers = [num for num in numbers if num % 2 != 0]\n",
    "\n",
    "print(\"List of numbers from 1 to 10:\", numbers)\n",
    "print(\"List of odd numbers:\", odd_numbers)\n",
    "\n",
    "\n",
    "\n",
    "list1 = list(range(1,11))\n",
    "odd = list1[::2]\n",
    "print(list1)\n",
    "print(odd)\n"
   ]
  },
  {
   "cell_type": "code",
   "execution_count": 57,
   "id": "9e24f29e",
   "metadata": {},
   "outputs": [
    {
     "name": "stdout",
     "output_type": "stream",
     "text": [
      "List of numbers from 1 to 10: [1, 2, 3, 4, 5, 6, 7, 8, 9, 10]\n",
      "List of even numbers: [2, 4, 6, 8, 10]\n",
      "[2, 4, 6, 8, 10]\n"
     ]
    }
   ],
   "source": [
    "#Wap in python code to create a list of 1 to 10 elements nd form the list created ,create another list with only even values.\n",
    "\n",
    "numbers = list(range(1, 11))\n",
    "even_numbers = [num for num in numbers if num % 2 == 0]\n",
    "\n",
    "print(\"List of numbers from 1 to 10:\", numbers)\n",
    "print(\"List of even numbers:\", even_numbers)\n",
    "\n",
    "\n",
    "\n",
    "even = list1[1::2]\n",
    "print(even)"
   ]
  },
  {
   "cell_type": "code",
   "execution_count": 2,
   "id": "27605a89",
   "metadata": {},
   "outputs": [
    {
     "name": "stdout",
     "output_type": "stream",
     "text": [
      "Enter a string: BALAKRISHNA\n",
      "List of characters from the string: ['B', 'A', 'L', 'A', 'K', 'R', 'I', 'S', 'H', 'N', 'A']\n"
     ]
    }
   ],
   "source": [
    "#wap in python to create a list ,which extracts elements from the string given by the user.\n",
    "\n",
    "# Take a string input from the user\n",
    "user_string = input(\"Enter a string: \")\n",
    "\n",
    "# Create a list by extracting each character from the string\n",
    "char_list = list(user_string)\n",
    "\n",
    "# Print the list to confirm\n",
    "print(\"List of characters from the string:\", char_list)\n",
    "\n"
   ]
  },
  {
   "cell_type": "code",
   "execution_count": null,
   "id": "416f67f1",
   "metadata": {},
   "outputs": [],
   "source": []
  }
 ],
 "metadata": {
  "kernelspec": {
   "display_name": "Python 3 (ipykernel)",
   "language": "python",
   "name": "python3"
  },
  "language_info": {
   "codemirror_mode": {
    "name": "ipython",
    "version": 3
   },
   "file_extension": ".py",
   "mimetype": "text/x-python",
   "name": "python",
   "nbconvert_exporter": "python",
   "pygments_lexer": "ipython3",
   "version": "3.12.3"
  }
 },
 "nbformat": 4,
 "nbformat_minor": 5
}
