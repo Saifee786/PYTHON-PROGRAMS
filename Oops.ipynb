{
 "cells": [
  {
   "cell_type": "code",
   "execution_count": 1,
   "id": "acb376e4",
   "metadata": {},
   "outputs": [],
   "source": [
    "#Class and Object"
   ]
  },
  {
   "cell_type": "code",
   "execution_count": 2,
   "id": "b3575951",
   "metadata": {},
   "outputs": [
    {
     "name": "stdout",
     "output_type": "stream",
     "text": [
      "Hii, WELCOME\n"
     ]
    }
   ],
   "source": [
    "class Python:\n",
    "    def fun(self):\n",
    "        print(\"Hii, WELCOME\")\n",
    "pyt = Python()\n",
    "pyt.fun()"
   ]
  },
  {
   "cell_type": "code",
   "execution_count": 3,
   "id": "186130b4",
   "metadata": {},
   "outputs": [
    {
     "name": "stdout",
     "output_type": "stream",
     "text": [
      "Name:  Lexus Id:  200102\n"
     ]
    }
   ],
   "source": [
    "class Car:\n",
    "    car = 0\n",
    "    def __init__(self,name,id1):\n",
    "        self.name = name\n",
    "        self.id1 = id1\n",
    "        Car.car+=1\n",
    "        \n",
    "    def printCard(self):\n",
    "        print(\"Name: \", self.name, \"Id: \", self.id1)\n",
    "\n",
    "c = Car(\"Lexus\", 200102)\n",
    "c.printCard()"
   ]
  },
  {
   "cell_type": "code",
   "execution_count": 6,
   "id": "a3913ce6",
   "metadata": {},
   "outputs": [
    {
     "name": "stdout",
     "output_type": "stream",
     "text": [
      "Name: , Raza Age:  21 Salary:  30000\n",
      "1\n"
     ]
    }
   ],
   "source": [
    "class Employee:\n",
    "    emp = 0\n",
    "    def set_data(self,name,age,salary):\n",
    "        self.name = name\n",
    "        self.age = age\n",
    "        self.salary = salary\n",
    "        self.emp += 1\n",
    "        \n",
    "    def details(self):\n",
    "        print(\"Name: ,\", self.name, \"Age: \", self.age, \"Salary: \", self.salary)\n",
    "        print(self.emp)\n",
    "\n",
    "c = Employee()\n",
    "c.set_data(\"Raza\", 21, 30000)\n",
    "c.details()"
   ]
  },
  {
   "cell_type": "code",
   "execution_count": 7,
   "id": "d2f4a201",
   "metadata": {},
   "outputs": [
    {
     "name": "stdout",
     "output_type": "stream",
     "text": [
      "Parrot is having feather color Green\n",
      "Parrot beak size - Short , beak color - Blue\n"
     ]
    }
   ],
   "source": [
    "class Bird:\n",
    "    def __init__(self, name, feather_color, beak_size, beak_color):\n",
    "        self.name = name\n",
    "        self.feather_color = feather_color\n",
    "        self.beak_size = beak_size\n",
    "        self.beak_color = beak_color\n",
    "        \n",
    "    def Fly(self):\n",
    "        print(f'{self.name} is having feather color {self.feather_color}')\n",
    "    def speed(self):\n",
    "        print(f'{self.name} beak size - {self.beak_size} , beak color - {self.beak_color}')\n",
    "\n",
    "br = Bird(\"Parrot\", \"Green\",\"Short\",\"Blue\")\n",
    "br.Fly()\n",
    "br.speed()\n"
   ]
  },
  {
   "cell_type": "code",
   "execution_count": 8,
   "id": "2b23a16e",
   "metadata": {},
   "outputs": [
    {
     "name": "stdout",
     "output_type": "stream",
     "text": [
      "Positive 123\n"
     ]
    }
   ],
   "source": [
    "class Number:\n",
    "    def __init__(self, n):\n",
    "        self.number = n\n",
    "        \n",
    "    def check_num(self):\n",
    "        if self.number > 0:\n",
    "            print(\"Positive\",self.number)\n",
    "        else:\n",
    "            print(\"negative\", self.number)\n",
    "\n",
    "num = Number(123)\n",
    "num.check_num()"
   ]
  },
  {
   "cell_type": "code",
   "execution_count": null,
   "id": "737fc152",
   "metadata": {},
   "outputs": [],
   "source": []
  }
 ],
 "metadata": {
  "kernelspec": {
   "display_name": "Python 3 (ipykernel)",
   "language": "python",
   "name": "python3"
  },
  "language_info": {
   "codemirror_mode": {
    "name": "ipython",
    "version": 3
   },
   "file_extension": ".py",
   "mimetype": "text/x-python",
   "name": "python",
   "nbconvert_exporter": "python",
   "pygments_lexer": "ipython3",
   "version": "3.12.3"
  }
 },
 "nbformat": 4,
 "nbformat_minor": 5
}
