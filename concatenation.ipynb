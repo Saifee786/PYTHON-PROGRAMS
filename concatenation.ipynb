{
 "cells": [
  {
   "cell_type": "code",
   "execution_count": 1,
   "id": "dcb46df2",
   "metadata": {},
   "outputs": [
    {
     "name": "stdout",
     "output_type": "stream",
     "text": [
      "(26, 45, 'heloo', 7, 5.6, 'python')\n"
     ]
    }
   ],
   "source": [
    "#concatenation of tuples\n",
    "value1_tuple=(26,45,\"heloo\")\n",
    "value2_tuple =7,5.6,\"python\"\n",
    "print(value1_tuple+value2_tuple)"
   ]
  },
  {
   "cell_type": "code",
   "execution_count": 3,
   "id": "69f56594",
   "metadata": {},
   "outputs": [
    {
     "name": "stdout",
     "output_type": "stream",
     "text": [
      "((26, 45, 'hello'), (36, 7.5, 'w'))\n"
     ]
    }
   ],
   "source": [
    "#nesting of tuples\n",
    "a1 = (26,45,\"hello\")\n",
    "b2 = (36,7.5,'w')\n",
    "c3 =a1,b2\n",
    "print(c3)"
   ]
  },
  {
   "cell_type": "code",
   "execution_count": null,
   "id": "7b2da4fd",
   "metadata": {},
   "outputs": [],
   "source": []
  }
 ],
 "metadata": {
  "kernelspec": {
   "display_name": "Python 3 (ipykernel)",
   "language": "python",
   "name": "python3"
  },
  "language_info": {
   "codemirror_mode": {
    "name": "ipython",
    "version": 3
   },
   "file_extension": ".py",
   "mimetype": "text/x-python",
   "name": "python",
   "nbconvert_exporter": "python",
   "pygments_lexer": "ipython3",
   "version": "3.12.3"
  }
 },
 "nbformat": 4,
 "nbformat_minor": 5
}
