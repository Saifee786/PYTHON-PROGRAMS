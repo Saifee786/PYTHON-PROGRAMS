{
 "cells": [
  {
   "cell_type": "code",
   "execution_count": 1,
   "id": "fe462cc0",
   "metadata": {},
   "outputs": [],
   "source": [
    "dict1 = {\n",
    "    1 : \"Monday\",\n",
    "    2 : \"Tuesday\",\n",
    "    3 : \"Wednesday\"\n",
    "}"
   ]
  },
  {
   "cell_type": "code",
   "execution_count": 2,
   "id": "5a030502",
   "metadata": {},
   "outputs": [
    {
     "data": {
      "text/plain": [
       "{1: 'Monday', 2: 'Tuesday', 3: 'Wednesday'}"
      ]
     },
     "execution_count": 2,
     "metadata": {},
     "output_type": "execute_result"
    }
   ],
   "source": [
    "dict1"
   ]
  },
  {
   "cell_type": "code",
   "execution_count": 3,
   "id": "844a4ecf",
   "metadata": {},
   "outputs": [
    {
     "name": "stdout",
     "output_type": "stream",
     "text": [
      "Monday\n",
      "Tuesday\n",
      "Wednesday\n"
     ]
    }
   ],
   "source": [
    "for i in dict1.values():\n",
    "    print(i)"
   ]
  },
  {
   "cell_type": "code",
   "execution_count": 4,
   "id": "696e61ac",
   "metadata": {},
   "outputs": [
    {
     "name": "stdout",
     "output_type": "stream",
     "text": [
      "1 Monday\n",
      "2 Tuesday\n",
      "3 Wednesday\n"
     ]
    }
   ],
   "source": [
    "for i,j in dict1.items():\n",
    "    print(i,j)"
   ]
  },
  {
   "cell_type": "code",
   "execution_count": 5,
   "id": "399fccc8",
   "metadata": {},
   "outputs": [],
   "source": [
    "dict2 = {\n",
    "    1 : (2,4,5),\n",
    "    \"Name\" : \"Face\",\n",
    "    3 : [5,7]\n",
    "}"
   ]
  },
  {
   "cell_type": "code",
   "execution_count": 6,
   "id": "d75f9bf8",
   "metadata": {},
   "outputs": [
    {
     "name": "stdout",
     "output_type": "stream",
     "text": [
      "1 (2, 4, 5)\n",
      "Name Face\n",
      "3 [5, 7]\n"
     ]
    }
   ],
   "source": [
    "for i,j in dict2.items():\n",
    "    print(i,j)"
   ]
  },
  {
   "cell_type": "code",
   "execution_count": 7,
   "id": "b9c7338c",
   "metadata": {},
   "outputs": [],
   "source": [
    "myfamily = {\n",
    "    1: \"Akbar\",\n",
    "  \"child1\" : {\n",
    "    \"name\" : \"Emil\",\n",
    "    \"year\" : 2004\n",
    "  },\n",
    "  \"child2\" : {\n",
    "    \"name\" : \"Tobias\",\n",
    "    \"year\" : 2007\n",
    "  },\n",
    "  \"child3\" : {\n",
    "    \"name\" : \"Linus\",\n",
    "    \"year\" : 2011\n",
    "  }\n",
    "}"
   ]
  },
  {
   "cell_type": "code",
   "execution_count": 8,
   "id": "7b20b748",
   "metadata": {},
   "outputs": [
    {
     "name": "stdout",
     "output_type": "stream",
     "text": [
      "1 Akbar\n",
      "child1 {'name': 'Emil', 'year': 2004}\n",
      "child2 {'name': 'Tobias', 'year': 2007}\n",
      "child3 {'name': 'Linus', 'year': 2011}\n"
     ]
    }
   ],
   "source": [
    "for i,j in myfamily.items():\n",
    "    print(i,j)"
   ]
  },
  {
   "cell_type": "code",
   "execution_count": 9,
   "id": "7175752e",
   "metadata": {},
   "outputs": [
    {
     "data": {
      "text/plain": [
       "{'a': 10, 'b': 20, 'c': 30, 'd': 40}"
      ]
     },
     "execution_count": 9,
     "metadata": {},
     "output_type": "execute_result"
    }
   ],
   "source": [
    "original = {'a':1,'b':2,'c':3,'d':4}\n",
    "\n",
    "tranform = {k: v * 10 for k,v in original.items()}\n",
    "tranform"
   ]
  },
  {
   "cell_type": "code",
   "execution_count": 10,
   "id": "2bb25712",
   "metadata": {},
   "outputs": [
    {
     "data": {
      "text/plain": [
       "{1: {'square': 1, 'cube': 1, 'quar': 1},\n",
       " 2: {'square': 4, 'cube': 8, 'quar': 16},\n",
       " 3: {'square': 9, 'cube': 27, 'quar': 81},\n",
       " 4: {'square': 16, 'cube': 64, 'quar': 256}}"
      ]
     },
     "execution_count": 10,
     "metadata": {},
     "output_type": "execute_result"
    }
   ],
   "source": [
    "numbers = [1,2,3,4]\n",
    "nested_dict = {x: {'square': x**2, 'cube': x**3, 'quar' : x**4} for x in numbers}\n",
    "nested_dict"
   ]
  },
  {
   "cell_type": "code",
   "execution_count": 11,
   "id": "1f7ea5d8",
   "metadata": {},
   "outputs": [
    {
     "data": {
      "text/plain": [
       "{'a': 1, 'c': 3}"
      ]
     },
     "execution_count": 11,
     "metadata": {},
     "output_type": "execute_result"
    }
   ],
   "source": [
    "keys = ['a','b','c','d']\n",
    "value = [1,2,3,4]\n",
    "\n",
    "filtered_dict = {keys[i]: value[i]    for i in range(len(keys))     if i % 2 == 0}\n",
    "filtered_dict"
   ]
  },
  {
   "cell_type": "code",
   "execution_count": 12,
   "id": "eeb81654",
   "metadata": {},
   "outputs": [
    {
     "data": {
      "text/plain": [
       "{'a': 1, 'b': 2, 'c': 3}"
      ]
     },
     "execution_count": 12,
     "metadata": {},
     "output_type": "execute_result"
    }
   ],
   "source": [
    "tuples = [('a',1),('b',2),('c',3)]\n",
    "\n",
    "my_dict = {key: value for key, value in tuples}\n",
    "my_dict"
   ]
  },
  {
   "cell_type": "code",
   "execution_count": 13,
   "id": "58a3bfab",
   "metadata": {},
   "outputs": [
    {
     "data": {
      "text/plain": [
       "{'a': 1, 'b': 2, 'c': 3}"
      ]
     },
     "execution_count": 13,
     "metadata": {},
     "output_type": "execute_result"
    }
   ],
   "source": [
    "keys1 = ['a','b','c']\n",
    "value1 = [1,2,3,4]\n",
    "\n",
    "my_dict = {k:value1[i]  if i < len(value1) else 0 for i, k in enumerate(keys1)}\n",
    "\n",
    "my_dict"
   ]
  },
  {
   "cell_type": "code",
   "execution_count": null,
   "id": "6ea15da1",
   "metadata": {},
   "outputs": [],
   "source": []
  }
 ],
 "metadata": {
  "kernelspec": {
   "display_name": "Python 3 (ipykernel)",
   "language": "python",
   "name": "python3"
  },
  "language_info": {
   "codemirror_mode": {
    "name": "ipython",
    "version": 3
   },
   "file_extension": ".py",
   "mimetype": "text/x-python",
   "name": "python",
   "nbconvert_exporter": "python",
   "pygments_lexer": "ipython3",
   "version": "3.12.3"
  }
 },
 "nbformat": 4,
 "nbformat_minor": 5
}
