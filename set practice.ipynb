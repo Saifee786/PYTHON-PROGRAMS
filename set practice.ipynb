{
 "cells": [
  {
   "cell_type": "code",
   "execution_count": 2,
   "id": "624e5edc",
   "metadata": {},
   "outputs": [],
   "source": [
    "#Write a python code to check whether the element got from the user is present in the value set "
   ]
  },
  {
   "cell_type": "code",
   "execution_count": 4,
   "id": "94cdb2bf",
   "metadata": {},
   "outputs": [
    {
     "name": "stdout",
     "output_type": "stream",
     "text": [
      "enter the no.8\n",
      "it is not present in value set\n"
     ]
    }
   ],
   "source": [
    "value_set ={6,12,26,10}\n",
    "element = int(input(\"enter the no.\"))\n",
    "if element in value_set:\n",
    "    print(\"it is present in the set\")\n",
    "else:\n",
    "    print(\"it is not present in value set\")"
   ]
  },
  {
   "cell_type": "code",
   "execution_count": null,
   "id": "ce6b1b54",
   "metadata": {},
   "outputs": [],
   "source": []
  },
  {
   "cell_type": "code",
   "execution_count": null,
   "id": "39e4a2be",
   "metadata": {},
   "outputs": [],
   "source": []
  }
 ],
 "metadata": {
  "kernelspec": {
   "display_name": "Python 3 (ipykernel)",
   "language": "python",
   "name": "python3"
  },
  "language_info": {
   "codemirror_mode": {
    "name": "ipython",
    "version": 3
   },
   "file_extension": ".py",
   "mimetype": "text/x-python",
   "name": "python",
   "nbconvert_exporter": "python",
   "pygments_lexer": "ipython3",
   "version": "3.12.3"
  }
 },
 "nbformat": 4,
 "nbformat_minor": 5
}
